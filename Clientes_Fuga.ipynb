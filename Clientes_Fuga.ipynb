{
 "cells": [
  {
   "cell_type": "code",
   "execution_count": 1,
   "id": "b37f0839",
   "metadata": {},
   "outputs": [],
   "source": [
    "import pandas as pd"
   ]
  },
  {
   "cell_type": "code",
   "execution_count": 3,
   "id": "e73aa76b",
   "metadata": {},
   "outputs": [],
   "source": [
    "df = pd.read_excel(r\"C:\\Users\\asalgado\\Downloads\\Datos_Clientes_Ejercicio_Probabilidad.xlsx\", sheet_name='BD Fuga Clientes V2')"
   ]
  },
  {
   "cell_type": "code",
   "execution_count": 4,
   "id": "05d11577",
   "metadata": {},
   "outputs": [
    {
     "name": "stdout",
     "output_type": "stream",
     "text": [
      "R(X)=  {0.0, 1.0, 2.0, 3.0, 4.0, 5.0, 6.0, 7.0, 8.0, 9.0}\n",
      "P(X=6) =  0.041999999999999926\n",
      "E(X) =  2.2699999999999996\n",
      "Var(X) =  3.267099999999999\n",
      "SD(X) =  1.8075121023107974\n",
      "Moda(X) =  1\n",
      "P(Cancelación suscripción = 1) =  0.09688581314878893\n",
      "P(X = 3) =  0.23569943585300743\n"
     ]
    }
   ],
   "source": [
    "# remplaza los N/A con 0 en la columna 'Llamas por quejas al mes'\n",
    "df['Llamas por quejas al mes'].fillna(0, inplace=True)\n",
    "\n",
    "# Imprime los valores de la columna 'Llamas por quejas al mes'\n",
    "print(\"R(X)= \",set(df['Llamas por quejas al mes']))\n",
    "\n",
    "# Probabilidad del valor de cada fila 'Llamas por quejas al mes'\n",
    "gxXi = {\n",
    "    \"1\":0.512,\n",
    "    \"2\":0.163,\n",
    "    \"3\":0.145,\n",
    "    \"4\":0.069,\n",
    "    \"5\":0.024,\n",
    "    \"6\": \"x\",\n",
    "    \"7\": 0.021,\n",
    "    \"8\": 0.014,\n",
    "    \"9\": 0.010\n",
    "}\n",
    "\n",
    "# Dado gxXi que es la probabilidad de cada valor de la columna 'Llamas por quejas al mes',\n",
    "#teniendo en cuenta que la suma de todas las probabilidades es 1\n",
    "\n",
    "gxXi[\"6\"] = 1 - sum([gx for gx in gxXi.values() if gx != 'x'])\n",
    "\n",
    "# Si un cliente es seleccionado al azar, ¿Cuál es la probabilidad que este haya hecho 6 llamadas?\n",
    "print(\"P(X=6) = \", gxXi[\"6\"])\n",
    "\n",
    "# Valor esperado de la variable aleatoria X\n",
    "E_X = 0\n",
    "for x, gx in gxXi.items():\n",
    "    E_X += int(x) * gx\n",
    "print(\"E(X) = \", E_X)\n",
    "\n",
    "# Varianza de la variable aleatoria X\n",
    "Var_X = 0\n",
    "for x, gx in gxXi.items():\n",
    "    Var_X += (int(x) - E_X)**2 * gx\n",
    "print(\"Var(X) = \", Var_X)\n",
    "\n",
    "# Desviación estándar de la variable aleatoria X\n",
    "print(\"SD(X) = \", Var_X**0.5)\n",
    "\n",
    "#Moda de la variable aleatoria X\n",
    "print(\"Moda(X) = \", max(gxXi, key=gxXi.get))\n",
    "\n",
    "# Encontrar la probabilidad de que un cliente cancele la suscripción\n",
    "# P(Cancelación suscripción = 1)\n",
    "# 1 Clientes que han cancelado\n",
    "# 0 Clientes que no han cancelado\n",
    "print(\"P(Cancelación suscripción = 1) = \", df['Cancelación suscripción'].mean())\n",
    "\n",
    "# Probabilidad de selecionar 30 clientes al azar y tres hayan cancelado la suscripción, usando la distribución binomial\n",
    "# n = 30\n",
    "# p = Media de la columna 'Cancelación suscripción'\n",
    "# k = 3\n",
    "# P(X = 3) = (30!/(3!*(30-3)!)) * p**3 * (1-p)**(30-3) this is nCr * p^k * (1-p)^(n-k)\n",
    "print(\"P(X = 3) = \", (30*29*28/(3*2*1)) * df['Cancelación suscripción'].mean()**3 * (1-df['Cancelación suscripción'].mean())**27)"
   ]
  },
  {
   "cell_type": "code",
   "execution_count": null,
   "id": "4afb9bc5",
   "metadata": {},
   "outputs": [],
   "source": []
  }
 ],
 "metadata": {
  "kernelspec": {
   "display_name": "Python 3 (ipykernel)",
   "language": "python",
   "name": "python3"
  },
  "language_info": {
   "codemirror_mode": {
    "name": "ipython",
    "version": 3
   },
   "file_extension": ".py",
   "mimetype": "text/x-python",
   "name": "python",
   "nbconvert_exporter": "python",
   "pygments_lexer": "ipython3",
   "version": "3.11.5"
  }
 },
 "nbformat": 4,
 "nbformat_minor": 5
}
